{
 "cells": [
  {
   "cell_type": "code",
   "execution_count": 3,
   "id": "57721da1",
   "metadata": {},
   "outputs": [
    {
     "name": "stdout",
     "output_type": "stream",
     "text": [
      "{'nama': 'mudrika', 'ipk': 3.35}\n"
     ]
    }
   ],
   "source": [
    "mahasiswa={\n",
    "    \"nama\":\"mudrika\",\n",
    "    \"ipk\" : 3.35\n",
    "}\n",
    "print(mahasiswa)"
   ]
  },
  {
   "cell_type": "code",
   "execution_count": 4,
   "id": "dab4cb0a",
   "metadata": {},
   "outputs": [
    {
     "name": "stdout",
     "output_type": "stream",
     "text": [
      "{'key': 'value'}\n"
     ]
    }
   ],
   "source": [
    "nama_list ={\n",
    "    \"key\": \"value\"\n",
    "}\n",
    "print(nama_list)"
   ]
  },
  {
   "cell_type": "code",
   "execution_count": 5,
   "id": "8d513f1e",
   "metadata": {},
   "outputs": [
    {
     "name": "stdout",
     "output_type": "stream",
     "text": [
      "{'key1': 'value', 'key2': 'value', 'key': 'value'}\n"
     ]
    }
   ],
   "source": [
    "nama_dict3 ={\n",
    "    \"key1\":\"value\",\n",
    "    \"key2\":\"value\",\n",
    "    \"key\":\"value\"\n",
    "}\n",
    "print(nama_dict3)"
   ]
  },
  {
   "cell_type": "code",
   "execution_count": 6,
   "id": "a7e4713c",
   "metadata": {},
   "outputs": [
    {
     "name": "stdout",
     "output_type": "stream",
     "text": [
      "{'kd_barang': '123', 'nama_barang': 'air aqua', 'harga': 6000, 'status': False}\n"
     ]
    }
   ],
   "source": [
    "dict_barang ={\n",
    "    \"kd_barang\" : \"123\",\n",
    "    \"nama_barang\":\"air aqua\",\n",
    "    \"harga\":6000,\n",
    "    \"status\": False\n",
    "}\n",
    "print(dict_barang)"
   ]
  },
  {
   "cell_type": "code",
   "execution_count": 8,
   "id": "34d26e86",
   "metadata": {},
   "outputs": [
    {
     "name": "stdout",
     "output_type": "stream",
     "text": [
      "<class 'dict'>\n",
      "<class 'dict'>\n",
      "<class 'dict'>\n",
      "{1: 'kopi', 2: 'susu', 3: 'teh'}\n",
      "{'ayam': 'ayam geprek', 'bebek': 'bebek bakar', 'ikan': 'ikan goreng'}\n",
      "{1: 'warung lamongan', 'alamat': 'jalan merdeka', 'harga': 25000}\n"
     ]
    }
   ],
   "source": [
    "minuman={\n",
    "    1:\"kopi\",\n",
    "    2:\"susu\",\n",
    "    3:\"teh\"\n",
    "}\n",
    "makanan={\n",
    "    \"ayam\":\"ayam geprek\",\n",
    "    \"bebek\": \"bebek bakar\",\n",
    "    \"ikan\":\"ikan goreng\"\n",
    "}\n",
    "warung={\n",
    "    1:\"warung lamongan\",\n",
    "    \"alamat\":\"jalan merdeka\",\n",
    "    \"harga\" : 25000\n",
    "}\n",
    "print(type(minuman))\n",
    "print(type(makanan))\n",
    "print(type(warung))\n",
    "print(minuman)\n",
    "print(makanan)\n",
    "print(warung)"
   ]
  },
  {
   "cell_type": "code",
   "execution_count": 10,
   "id": "cbdf9fc2",
   "metadata": {},
   "outputs": [
    {
     "name": "stdout",
     "output_type": "stream",
     "text": [
      "ayam geprek\n",
      "ayam geprek\n"
     ]
    }
   ],
   "source": [
    "makanan = {\n",
    "\"ayam\" : \"ayam geprek\",\n",
    "\"bebek\" : \"bebek bakar\",\n",
    "\"ikan\" : \"ikan goreng\"\n",
    "}\n",
    "\n",
    "print(makanan[\"ayam\"])\n",
    "\n",
    "print(makanan.get(\"ayam\"))"
   ]
  },
  {
   "cell_type": "code",
   "execution_count": 29,
   "id": "25fb5533",
   "metadata": {},
   "outputs": [
    {
     "name": "stdout",
     "output_type": "stream",
     "text": [
      "Nama saya adalah Budi\n",
      "umur saya adalah 22\n",
      "hobi saya adalah Coding\n",
      "status saya False\n",
      "Instagram: FbBudi\n"
     ]
    }
   ],
   "source": [
    "Mahasiswa = {\n",
    "\"nama\" : \"Budi\",\n",
    "\"umur\" : 22,\n",
    "\"hobi\" : [\"Coding\", \"membaca\", \"Memancing\", \"Gosip\"],\n",
    "\"Menikah\" : False,\n",
    "\"sosmed\" : {\n",
    "\"facebook\" : \"FbBudi\",\n",
    "\"twitter\" : \"twBudi\",\n",
    "\"instagram\" : \"igBudi\",\n",
    "\"TikTok\" : \"ttBudi\",\n",
    "\"YoutubeChannel\" : \"ytBudi\"\n",
    " }\n",
    "}\n",
    "print(\"Nama saya adalah %s\" % Mahasiswa[\"nama\"])\n",
    "print(\"umur saya adalah %d\" % Mahasiswa[\"umur\"])\n",
    "print(\"hobi saya adalah %s\" % Mahasiswa[\"hobi\"][0])\n",
    "print(\"status saya %s\" % Mahasiswa[\"Menikah\"])\n",
    "print(\"Instagram: %s\" % Mahasiswa[\"sosmed\"][\"facebook\"])"
   ]
  },
  {
   "cell_type": "code",
   "execution_count": 37,
   "id": "1c493fbd",
   "metadata": {},
   "outputs": [
    {
     "name": "stdout",
     "output_type": "stream",
     "text": [
      "1\n",
      "9\n",
      "25\n",
      "49\n",
      "81\n"
     ]
    }
   ],
   "source": [
    "kuadrat = {1: 1, 3: 9, 5: 25, 7: 49, 9: 81}\n",
    "for i in kuadrat:\n",
    "    print(kuadrat.get(i))"
   ]
  },
  {
   "cell_type": "code",
   "execution_count": 44,
   "id": "40cdc9cb",
   "metadata": {},
   "outputs": [
    {
     "name": "stdout",
     "output_type": "stream",
     "text": [
      "STMIK Pontianak\n",
      "http://www.stmikpontianak.moodle.ac.id\n",
      "stmikpontianak official\n"
     ]
    }
   ],
   "source": [
    "web = {\n",
    "\"name\" : \"STMIK Pontianak\",\n",
    "\"url\" : \"http://www.stmikpontianak.moodle.ac.id\",\n",
    "\"FB\" : \"stmikpontianak official\"\n",
    "}\n",
    "\n",
    "for key in web:\n",
    "    print(web[key])"
   ]
  },
  {
   "cell_type": "code",
   "execution_count": 48,
   "id": "886cf1b9",
   "metadata": {},
   "outputs": [
    {
     "name": "stdout",
     "output_type": "stream",
     "text": [
      "ayam mercon\n",
      "{'ayam': 'ayam mercon', 'bebek': 'bebek bakar', 'ikan': 'ikan goreng', 'sambal': 'sambal ijo'}\n",
      "jos susu\n"
     ]
    }
   ],
   "source": [
    "makanan = {\n",
    "\"ayam\" : \"ayam geprek\",\n",
    "\"bebek\" : \"bebek bakar\",\n",
    "\"ikan\" : \"ikan goreng\"\n",
    "}\n",
    "minuman={\n",
    "    1:\"kopi\",\n",
    "    2:\"susu\",\n",
    "    3:\"teh\"\n",
    "}\n",
    "makanan[\"ayam\"] = \"ayam mercon\"\n",
    "makanan[\"sambal\"] = \"sambal ijo\"\n",
    "minuman[\"kopi\"]=\"jos susu\"\n",
    "print(makanan[\"ayam\"])\n",
    "print(makanan)\n",
    "print(minuman[\"kopi\"])"
   ]
  },
  {
   "cell_type": "code",
   "execution_count": 56,
   "id": "a7d05b24",
   "metadata": {},
   "outputs": [
    {
     "name": "stdout",
     "output_type": "stream",
     "text": [
      "{'name': 'STMIK Pontianak', 'alamat': 'Jalan Merdeka No. 372 Pontianak', 'url': 'https://www.stmikpontianak.ac.id'}\n",
      "{'name': 'STMIK Pontianak', 'alamat': 'Jalan Merdeka No. 372 Pontianak', 'url': 'https://www.stmikpontianak.ac.id', 'email': 'info@stmikpontianak.ac.id'}\n"
     ]
    }
   ],
   "source": [
    "Kampus = {\n",
    "\"name\" : \"STMIK Pontianak\"\n",
    "}\n",
    "Kampus[\"alamat\"] = \"Jalan Merdeka No. 372 Pontianak\"\n",
    "\n",
    "Kampus.update({\"url\" : \"https://www.stmikpontianak.ac.id\"})\n",
    "print(Kampus)\n",
    "              \n",
    "Kampus.update({\"email\" : \"info@stmikpontianak.ac.id\"})\n",
    "print(Kampus)"
   ]
  },
  {
   "cell_type": "code",
   "execution_count": 64,
   "id": "82198e9d",
   "metadata": {},
   "outputs": [
    {
     "name": "stdout",
     "output_type": "stream",
     "text": [
      "{'ayam': 'ayam geprek', 'bebek': 'bebek bakar', 'ikan': 'ikan goreng', 'sambal': ['sambal terasi', 'sambal pedas', 'sambal bawang'], 'bumbu': {'cabe': 'cabe hijau', 'kecap': 'kecap manis'}}\n",
      "{'ayam': 'ayam geprek', 'ikan': 'ikan goreng', 'sambal': ['sambal terasi', 'sambal pedas', 'sambal bawang'], 'bumbu': {'cabe': 'cabe hijau', 'kecap': 'kecap manis'}}\n",
      "{'ayam': 'ayam geprek', 'ikan': 'ikan goreng', 'sambal': ['sambal terasi', 'sambal pedas', 'sambal bawang'], 'bumbu': {'cabe': 'cabe hijau'}}\n"
     ]
    }
   ],
   "source": [
    "makanan = {\n",
    "\"ayam\" : \"ayam geprek\",\n",
    "\"bebek\" : \"bebek bakar\",\n",
    "\"ikan\" : \"ikan goreng\",\n",
    "\"sambal\" : [\"sambal terasi\",\"sambal pedas\",\"sambal bawang\"],\n",
    "\"bumbu\" : {\"cabe\" : \"cabe hijau\", \"kecap\":\"kecap manis\"}\n",
    "}\n",
    "\n",
    "print(makanan)\n",
    "\n",
    "del makanan[\"bebek\"]\n",
    "print(makanan)\n",
    "\n",
    "del makanan[\"bumbu\"][\"kecap\"]\n",
    "print(makanan)"
   ]
  },
  {
   "cell_type": "code",
   "execution_count": 66,
   "id": "c3df4c41",
   "metadata": {},
   "outputs": [
    {
     "name": "stdout",
     "output_type": "stream",
     "text": [
      "{'ayam': 'ayam geprek', 'bebek': 'bebek bakar', 'ikan': 'ikan goreng', 'sambal': ['sambal terasi', 'sambal pedas', 'sambal bawang'], 'bumbu': {'cabe': 'cabe hijau', 'kecap': 'kecap manis'}}\n",
      "{'ayam': 'ayam geprek', 'ikan': 'ikan goreng', 'sambal': ['sambal terasi', 'sambal pedas', 'sambal bawang'], 'bumbu': {'cabe': 'cabe hijau', 'kecap': 'kecap manis'}}\n"
     ]
    }
   ],
   "source": [
    "makanan = {\n",
    "\"ayam\" : \"ayam geprek\",\n",
    "\"bebek\" : \"bebek bakar\",\n",
    "\"ikan\" : \"ikan goreng\",\n",
    "\"sambal\" : [\"sambal terasi\",\"sambal pedas\",\"sambal bawang\"],\n",
    "\"bumbu\" : {\"cabe\" : \"cabe hijau\", \"kecap\":\"kecap manis\"}\n",
    "}\n",
    "\n",
    "print(makanan)\n",
    "\n",
    "makanan.pop(\"bebek\")\n",
    "print(makanan)"
   ]
  },
  {
   "cell_type": "code",
   "execution_count": 79,
   "id": "a7f2607a",
   "metadata": {},
   "outputs": [
    {
     "name": "stdout",
     "output_type": "stream",
     "text": [
      "total makanan : 5\n"
     ]
    }
   ],
   "source": [
    "makanan = {\n",
    "\"ayam\" : \"ayam geprek\",\n",
    "\"bebek\" : \"bebek bakar\",\n",
    "\"ikan\" : \"ikan goreng\",\n",
    "\"sambal\" : [\"sambal terasi\",\"sambal pedas\",\"sambal bawang\"],\n",
    "\"bumbu\" : {\"cabe\" : \"cabe hijau\", \"kecap\":\"kecap manis\"}\n",
    "}\n",
    "print(\"total makanan : %d\" %len(makanan))"
   ]
  },
  {
   "cell_type": "code",
   "execution_count": 81,
   "id": "4520e628",
   "metadata": {},
   "outputs": [
    {
     "name": "stdout",
     "output_type": "stream",
     "text": [
      "{'python': 0, 'C++': 0, 'java': 0}\n",
      "True\n",
      "('python', 0)\n",
      "('C++', 0)\n",
      "('java', 0)\n",
      "['C++', 'java', 'python']\n"
     ]
    }
   ],
   "source": [
    "bahasa={}.fromkeys(['python','C++','java'],0)\n",
    "\n",
    "print(bahasa)\n",
    "print(all(bahasa))\n",
    "\n",
    "for item in bahasa.items():\n",
    "    print(item)\n",
    "print(list(sorted(bahasa.keys())))"
   ]
  },
  {
   "cell_type": "code",
   "execution_count": 85,
   "id": "33978a8f",
   "metadata": {},
   "outputs": [
    {
     "name": "stdout",
     "output_type": "stream",
     "text": [
      "{'python': 0, 'C++': 0, 'java': 0}\n",
      "{'python': 10, 'C++': 20, 'java': 30}\n"
     ]
    }
   ],
   "source": [
    "bahasa={}.fromkeys(['python','C++','java'],0)\n",
    "\n",
    "print(bahasa)\n",
    "value = [10,20,30]\n",
    "\n",
    "bahasa=dict(zip(bahasa, value))\n",
    "print(bahasa)"
   ]
  },
  {
   "cell_type": "code",
   "execution_count": 87,
   "id": "5e58b89e",
   "metadata": {},
   "outputs": [
    {
     "name": "stdout",
     "output_type": "stream",
     "text": [
      "Hello World !\n",
      "Hello World !\n",
      "Hello World !\n"
     ]
    }
   ],
   "source": [
    "def Nama_Fungsi():\n",
    "    print(\"Hello World !\")\n",
    "\n",
    "Nama_Fungsi()\n",
    "Nama_Fungsi()\n",
    "Nama_Fungsi()"
   ]
  },
  {
   "cell_type": "code",
   "execution_count": 92,
   "id": "3725ade3",
   "metadata": {},
   "outputs": [
    {
     "name": "stdout",
     "output_type": "stream",
     "text": [
      "====================================================================================================\n",
      " KODE BARANG  NAMA BARANG   HARGA\n",
      "----------------------------------------------------------------------------------------------------\n",
      " KODE BARANG  NAMA BARANG   HARGA\n",
      "****************************************************************************************************\n"
     ]
    }
   ],
   "source": [
    "def garis(simbol, panjang):\n",
    "    print(simbol * panjang)\n",
    "garis(\"=\",100)\n",
    "print(\" KODE BARANG  NAMA BARANG   HARGA\")\n",
    "garis(\"-\",100)\n",
    "print(\" KODE BARANG  NAMA BARANG   HARGA\")\n",
    "garis(\"*\",100)"
   ]
  },
  {
   "cell_type": "code",
   "execution_count": 96,
   "id": "1f094747",
   "metadata": {},
   "outputs": [
    {
     "name": "stdout",
     "output_type": "stream",
     "text": [
      "masukkan nilai panjang : 12\n",
      "masukkan nilai lebar : 5\n",
      "luas 60\n"
     ]
    }
   ],
   "source": [
    "p = int(input(\"masukkan nilai panjang : \"))\n",
    "l = int(input(\"masukkan nilai lebar : \"))\n",
    "\n",
    "luas = p*l\n",
    "\n",
    "print(\"luas\",luas)"
   ]
  },
  {
   "cell_type": "code",
   "execution_count": 5,
   "id": "ef0e5b57",
   "metadata": {},
   "outputs": [
    {
     "name": "stdout",
     "output_type": "stream",
     "text": [
      "masukkan nilai panjang : 12\n",
      "masukkan nilai lebar : 5\n",
      "luas 60\n",
      "keliling 34\n"
     ]
    }
   ],
   "source": [
    "def HitungLuas(p,l):\n",
    "    luas = p * l\n",
    "    return luas\n",
    "def HitungKeliling(p,l):\n",
    "    keliling = 2*(p + l)\n",
    "    return keliling\n",
    "\n",
    "p = int(input(\"masukkan nilai panjang : \"))\n",
    "l = int(input(\"masukkan nilai lebar : \"))\n",
    "luas = HitungLuas(p,l)\n",
    "print(\"luas\",luas)\n",
    "keliling = HitungKeliling(p,l)\n",
    "print(\"keliling\",keliling)"
   ]
  },
  {
   "cell_type": "code",
   "execution_count": 3,
   "id": "1c3c8fa1",
   "metadata": {},
   "outputs": [
    {
     "name": "stdout",
     "output_type": "stream",
     "text": [
      "masukkan nilai panjang : 12\n",
      "masukkan nilai lebar : 5\n",
      "luas 34\n"
     ]
    }
   ],
   "source": [
    "def HitungKeliling(p,l):\n",
    "    keliling = 2*(p + l)\n",
    "    return luas\n",
    "\n",
    "p = int(input(\"masukkan nilai panjang : \"))\n",
    "l = int(input(\"masukkan nilai lebar : \"))\n",
    "keliling = HitungKeliling(p,l)\n",
    "print(\"luas\",luas)"
   ]
  },
  {
   "cell_type": "code",
   "execution_count": 9,
   "id": "e04c33d0",
   "metadata": {},
   "outputs": [
    {
     "name": "stdout",
     "output_type": "stream",
     "text": [
      "Masukkan nilai60\n",
      "grade nilai adalah C\n"
     ]
    }
   ],
   "source": [
    "def grade(nilai):\n",
    "    if nilai >= 80:\n",
    "        return \"A\"\n",
    "    elif nilai >= 70:\n",
    "        return \"B\"\n",
    "    elif nilai >= 60:\n",
    "        return \"C\"\n",
    "    elif nilai >= 50:\n",
    "        return \"D\"\n",
    "    else:\n",
    "        return \"E\"\n",
    "    \n",
    "def programutama():\n",
    "    nilai = int(input(\"Masukkan nilai\"))\n",
    "    print(\"grade nilai adalah\",grade(nilai))\n",
    "    \n",
    "programutama()"
   ]
  },
  {
   "cell_type": "code",
   "execution_count": 10,
   "id": "26a448dd",
   "metadata": {},
   "outputs": [
    {
     "name": "stdout",
     "output_type": "stream",
     "text": [
      "Masukkan nilai30\n",
      "grade nilai adalah E\n"
     ]
    }
   ],
   "source": [
    "def grade(nilai):\n",
    "    if nilai >= 80:\n",
    "        return \"A\"\n",
    "    elif nilai >= 70:\n",
    "        return \"B\"\n",
    "    elif nilai >= 60:\n",
    "        return \"C\"\n",
    "    elif nilai >= 50:\n",
    "        return \"D\"\n",
    "    else:\n",
    "        return \"E\"\n",
    "    \n",
    "    \n",
    "nilai = int(input(\"Masukkan nilai\"))\n",
    "print(\"grade nilai adalah\",grade(nilai))"
   ]
  },
  {
   "cell_type": "code",
   "execution_count": 12,
   "id": "f91326f3",
   "metadata": {},
   "outputs": [
    {
     "name": "stdout",
     "output_type": "stream",
     "text": [
      "nama:pemrogram berbasis open source\n",
      "Sks: 3\n",
      "nama:python\n",
      "Sks: 3\n"
     ]
    }
   ],
   "source": [
    "nama=\"pemrogram berbasis open source\"\n",
    "sks=\"3\"\n",
    "\n",
    "def matakuliah():\n",
    "    nama=\"python\"\n",
    "    sks =\"3\"\n",
    "    print(\"nama:%s\"% nama)\n",
    "    print(\"Sks: %s\"% sks)\n",
    "    \n",
    "print(\"nama:%s\"% nama)\n",
    "print(\"Sks: %s\"% sks)\n",
    "\n",
    "matakuliah()"
   ]
  },
  {
   "cell_type": "code",
   "execution_count": null,
   "id": "143116a3",
   "metadata": {},
   "outputs": [
    {
     "name": "stdout",
     "output_type": "stream",
     "text": [
      "\n",
      "\n",
      "----------- MENU ----------\n",
      "[1] Show Data\n",
      "[2] Insert Data\n",
      "[3] Edit Data\n",
      "[4] Delete Data\n",
      "[5] Exit\n"
     ]
    }
   ],
   "source": [
    "buku = []\n",
    "\n",
    "def show_data():\n",
    "    if len(buku) <= 0:\n",
    "        print(\"BELUM ADA DATA\")\n",
    "    else:\n",
    "        for indeks in range(len(buku)):\n",
    "            print(\"[%d] %s\" % (indeks, buku[indeks]))\n",
    "\n",
    "def insert_data():\n",
    "    buku_baru = input(\"Judul Buku: \")\n",
    "    buku.append(buku_baru)\n",
    "\n",
    "def edit_data():\n",
    "    show_data()\n",
    "    indeks = eval(input(\"Inputkan ID buku: \"))\n",
    "    print(len(buku))\n",
    "    \n",
    "    if(indeks > len(buku)):\n",
    "        print(\"ID salah\")\n",
    "    else:\n",
    "        judul_baru = input(\"Judul baru: \")\n",
    "        buku[indeks] = judul_baru\n",
    "\n",
    "def delete_data():\n",
    "    show_data()\n",
    "    indeks = eval(input(\"Inputkan ID buku: \"))\n",
    "    if(indeks > len(buku)):\n",
    "        print(\"ID salah\")\n",
    "    else:\n",
    "        buku.remove(buku[indeks])\n",
    "\n",
    "def show_menu():\n",
    "    print(\"\\n\")\n",
    "    print(\"----------- MENU ----------\")\n",
    "    print(\"[1] Show Data\")\n",
    "    print(\"[2] Insert Data\")\n",
    "    print(\"[3] Edit Data\")\n",
    "    print(\"[4] Delete Data\")\n",
    "    print(\"[5] Exit\")\n",
    "    menu = input(\"PILIH MENU> \")\n",
    "    print(\"\\n\")\n",
    "    \n",
    "    if menu == \"1\":\n",
    "        show_data()\n",
    "    elif menu == \"2\":\n",
    "        insert_data()\n",
    "    elif menu == \"3\":\n",
    "        edit_data()\n",
    "    elif menu == \"4\":\n",
    "        delete_data()\n",
    "    elif menu == \"5\":\n",
    "        exit(0)\n",
    "    else:\n",
    "        print(\"Salah pilih!\")\n",
    "\n",
    "if __name__ == \"__main__\":\n",
    "    while(True):\n",
    "        show_menu()\n",
    "def buatgaris(tanda,jumlah):\n",
    "    print(tanda*jumlah)\n",
    "    buatgaris(\"%\",50)\n",
    "    print(\"JUDUL\")\n",
    "    buatgaris(\"=\",50)"
   ]
  },
  {
   "cell_type": "code",
   "execution_count": null,
   "id": "29234f3a",
   "metadata": {},
   "outputs": [],
   "source": []
  },
  {
   "cell_type": "code",
   "execution_count": null,
   "id": "112ade65",
   "metadata": {},
   "outputs": [],
   "source": []
  }
 ],
 "metadata": {
  "kernelspec": {
   "display_name": "Python 3 (ipykernel)",
   "language": "python",
   "name": "python3"
  },
  "language_info": {
   "codemirror_mode": {
    "name": "ipython",
    "version": 3
   },
   "file_extension": ".py",
   "mimetype": "text/x-python",
   "name": "python",
   "nbconvert_exporter": "python",
   "pygments_lexer": "ipython3",
   "version": "3.9.7"
  }
 },
 "nbformat": 4,
 "nbformat_minor": 5
}
